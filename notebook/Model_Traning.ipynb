{
  "cells": [
    {
      "cell_type": "code",
      "execution_count": 4,
      "metadata": {
        "id": "zCCYJIZzk5nS"
      },
      "outputs": [],
      "source": [
        "import pandas as pd\n",
        "import numpy as np\n",
        "import matplotlib.pyplot as plt\n",
        "import seaborn as sns\n",
        "import warnings\n",
        "warnings.filterwarnings('ignore')"
      ]
    },
    {
      "cell_type": "code",
      "execution_count": 5,
      "metadata": {
        "id": "ks6NwIswlPxH"
      },
      "outputs": [],
      "source": [
        "from sklearn.metrics import r2_score,mean_squared_error,mean_absolute_error\n",
        "from sklearn.neighbors import KNeighborsRegressor\n",
        "from sklearn.svm import SVR\n",
        "from sklearn.ensemble import RandomForestRegressor,AdaBoostRegressor\n",
        "from sklearn.tree import DecisionTreeRegressor\n",
        "from sklearn.linear_model import LinearRegression,Ridge,Lasso\n",
        "from sklearn.model_selection import RandomizedSearchCV\n",
        "from xgboost import XGBRegressor\n",
        "from catboost import CatBoostRegressor\n",
        "from sklearn.model_selection import train_test_split"
      ]
    },
    {
      "cell_type": "code",
      "execution_count": 6,
      "metadata": {
        "colab": {
          "base_uri": "https://localhost:8080/"
        },
        "id": "6deab521",
        "outputId": "a623b028-202c-4ec0-aa38-b070b47b9138"
      },
      "outputs": [
        {
          "name": "stdout",
          "output_type": "stream",
          "text": [
            "Requirement already satisfied: catboost in e:\\ml algorithm\\venv\\lib\\site-packages (1.2.8)\n",
            "Requirement already satisfied: graphviz in e:\\ml algorithm\\venv\\lib\\site-packages (from catboost) (0.20.3)\n",
            "Requirement already satisfied: matplotlib in e:\\ml algorithm\\venv\\lib\\site-packages (from catboost) (3.7.5)\n",
            "Requirement already satisfied: numpy<3.0,>=1.16.0 in e:\\ml algorithm\\venv\\lib\\site-packages (from catboost) (1.24.4)\n",
            "Requirement already satisfied: pandas>=0.24 in e:\\ml algorithm\\venv\\lib\\site-packages (from catboost) (2.0.3)\n",
            "Requirement already satisfied: scipy in e:\\ml algorithm\\venv\\lib\\site-packages (from catboost) (1.10.1)\n",
            "Requirement already satisfied: plotly in e:\\ml algorithm\\venv\\lib\\site-packages (from catboost) (6.2.0)\n",
            "Requirement already satisfied: six in e:\\ml algorithm\\venv\\lib\\site-packages (from catboost) (1.17.0)\n",
            "Requirement already satisfied: python-dateutil>=2.8.2 in e:\\ml algorithm\\venv\\lib\\site-packages (from pandas>=0.24->catboost) (2.9.0.post0)\n",
            "Requirement already satisfied: pytz>=2020.1 in e:\\ml algorithm\\venv\\lib\\site-packages (from pandas>=0.24->catboost) (2025.2)\n",
            "Requirement already satisfied: tzdata>=2022.1 in e:\\ml algorithm\\venv\\lib\\site-packages (from pandas>=0.24->catboost) (2025.2)\n",
            "Requirement already satisfied: contourpy>=1.0.1 in e:\\ml algorithm\\venv\\lib\\site-packages (from matplotlib->catboost) (1.1.1)\n",
            "Requirement already satisfied: cycler>=0.10 in e:\\ml algorithm\\venv\\lib\\site-packages (from matplotlib->catboost) (0.12.1)\n",
            "Requirement already satisfied: fonttools>=4.22.0 in e:\\ml algorithm\\venv\\lib\\site-packages (from matplotlib->catboost) (4.57.0)\n",
            "Requirement already satisfied: kiwisolver>=1.0.1 in e:\\ml algorithm\\venv\\lib\\site-packages (from matplotlib->catboost) (1.4.7)\n",
            "Requirement already satisfied: packaging>=20.0 in e:\\ml algorithm\\venv\\lib\\site-packages (from matplotlib->catboost) (25.0)\n",
            "Requirement already satisfied: pillow>=6.2.0 in e:\\ml algorithm\\venv\\lib\\site-packages (from matplotlib->catboost) (10.4.0)\n",
            "Requirement already satisfied: pyparsing>=2.3.1 in e:\\ml algorithm\\venv\\lib\\site-packages (from matplotlib->catboost) (3.1.4)\n",
            "Requirement already satisfied: importlib-resources>=3.2.0 in e:\\ml algorithm\\venv\\lib\\site-packages (from matplotlib->catboost) (6.4.5)\n",
            "Requirement already satisfied: narwhals>=1.15.1 in e:\\ml algorithm\\venv\\lib\\site-packages (from plotly->catboost) (1.42.1)\n",
            "Requirement already satisfied: zipp>=3.1.0 in e:\\ml algorithm\\venv\\lib\\site-packages (from importlib-resources>=3.2.0->matplotlib->catboost) (3.20.2)\n",
            "Note: you may need to restart the kernel to use updated packages.\n"
          ]
        }
      ],
      "source": [
        "%pip install catboost"
      ]
    },
    {
      "cell_type": "markdown",
      "metadata": {
        "id": "7GguhShemw9a"
      },
      "source": [
        "##Importing the data as Pandas Frame Work"
      ]
    },
    {
      "cell_type": "code",
      "execution_count": 7,
      "metadata": {
        "id": "3y0rJFVRmuQY"
      },
      "outputs": [],
      "source": [
        "df=pd.read_csv(\"data\\StudentsPerformance.csv\")"
      ]
    },
    {
      "cell_type": "code",
      "execution_count": 8,
      "metadata": {
        "colab": {
          "base_uri": "https://localhost:8080/",
          "height": 206
        },
        "id": "f8SHqkAjnDCN",
        "outputId": "89c9f1d9-6c94-43f8-ff02-b7b3564ea1d6"
      },
      "outputs": [
        {
          "data": {
            "text/html": [
              "<div>\n",
              "<style scoped>\n",
              "    .dataframe tbody tr th:only-of-type {\n",
              "        vertical-align: middle;\n",
              "    }\n",
              "\n",
              "    .dataframe tbody tr th {\n",
              "        vertical-align: top;\n",
              "    }\n",
              "\n",
              "    .dataframe thead th {\n",
              "        text-align: right;\n",
              "    }\n",
              "</style>\n",
              "<table border=\"1\" class=\"dataframe\">\n",
              "  <thead>\n",
              "    <tr style=\"text-align: right;\">\n",
              "      <th></th>\n",
              "      <th>gender</th>\n",
              "      <th>race/ethnicity</th>\n",
              "      <th>parental level of education</th>\n",
              "      <th>lunch</th>\n",
              "      <th>test preparation course</th>\n",
              "      <th>math score</th>\n",
              "      <th>reading score</th>\n",
              "      <th>writing score</th>\n",
              "    </tr>\n",
              "  </thead>\n",
              "  <tbody>\n",
              "    <tr>\n",
              "      <th>0</th>\n",
              "      <td>female</td>\n",
              "      <td>group B</td>\n",
              "      <td>bachelor's degree</td>\n",
              "      <td>standard</td>\n",
              "      <td>none</td>\n",
              "      <td>72</td>\n",
              "      <td>72</td>\n",
              "      <td>74</td>\n",
              "    </tr>\n",
              "    <tr>\n",
              "      <th>1</th>\n",
              "      <td>female</td>\n",
              "      <td>group C</td>\n",
              "      <td>some college</td>\n",
              "      <td>standard</td>\n",
              "      <td>completed</td>\n",
              "      <td>69</td>\n",
              "      <td>90</td>\n",
              "      <td>88</td>\n",
              "    </tr>\n",
              "    <tr>\n",
              "      <th>2</th>\n",
              "      <td>female</td>\n",
              "      <td>group B</td>\n",
              "      <td>master's degree</td>\n",
              "      <td>standard</td>\n",
              "      <td>none</td>\n",
              "      <td>90</td>\n",
              "      <td>95</td>\n",
              "      <td>93</td>\n",
              "    </tr>\n",
              "    <tr>\n",
              "      <th>3</th>\n",
              "      <td>male</td>\n",
              "      <td>group A</td>\n",
              "      <td>associate's degree</td>\n",
              "      <td>free/reduced</td>\n",
              "      <td>none</td>\n",
              "      <td>47</td>\n",
              "      <td>57</td>\n",
              "      <td>44</td>\n",
              "    </tr>\n",
              "    <tr>\n",
              "      <th>4</th>\n",
              "      <td>male</td>\n",
              "      <td>group C</td>\n",
              "      <td>some college</td>\n",
              "      <td>standard</td>\n",
              "      <td>none</td>\n",
              "      <td>76</td>\n",
              "      <td>78</td>\n",
              "      <td>75</td>\n",
              "    </tr>\n",
              "  </tbody>\n",
              "</table>\n",
              "</div>"
            ],
            "text/plain": [
              "   gender race/ethnicity parental level of education         lunch  \\\n",
              "0  female        group B           bachelor's degree      standard   \n",
              "1  female        group C                some college      standard   \n",
              "2  female        group B             master's degree      standard   \n",
              "3    male        group A          associate's degree  free/reduced   \n",
              "4    male        group C                some college      standard   \n",
              "\n",
              "  test preparation course  math score  reading score  writing score  \n",
              "0                    none          72             72             74  \n",
              "1               completed          69             90             88  \n",
              "2                    none          90             95             93  \n",
              "3                    none          47             57             44  \n",
              "4                    none          76             78             75  "
            ]
          },
          "execution_count": 8,
          "metadata": {},
          "output_type": "execute_result"
        }
      ],
      "source": [
        "df.head()\n"
      ]
    },
    {
      "cell_type": "markdown",
      "metadata": {
        "id": "f6JoDDhbutp7"
      },
      "source": [
        "##Preparing X and Y Variables"
      ]
    },
    {
      "cell_type": "code",
      "execution_count": 9,
      "metadata": {
        "id": "yHrfeplxuwmN"
      },
      "outputs": [],
      "source": [
        "##Here We'll try to [predict the maths score]\n",
        "\n",
        "X = df.drop(columns=['math score'], axis=1)\n",
        "y = df['math score']"
      ]
    },
    {
      "cell_type": "markdown",
      "metadata": {
        "id": "fWN2LHNDvY8r"
      },
      "source": [
        "##Create Column Transformer with 3 types of Transformers"
      ]
    },
    {
      "cell_type": "code",
      "execution_count": 10,
      "metadata": {
        "id": "eR9A-iz3vK0Q"
      },
      "outputs": [],
      "source": [
        "num_features=X.select_dtypes(exclude='object').columns\n",
        "cat_featutres=X.select_dtypes(include='object').columns\n",
        "\n",
        "from sklearn.preprocessing import OneHotEncoder,StandardScaler\n",
        "from sklearn.compose import ColumnTransformer\n",
        "preprocessor=ColumnTransformer([\n",
        "    ('OneHotEncoder',OneHotEncoder(),cat_featutres),\n",
        "    ('StandardScaler',StandardScaler(),num_features)\n",
        "]\n",
        ")"
      ]
    },
    {
      "cell_type": "code",
      "execution_count": 11,
      "metadata": {
        "id": "vmYNEGJK2k3k"
      },
      "outputs": [],
      "source": [
        "X=preprocessor.fit_transform(X)"
      ]
    },
    {
      "cell_type": "code",
      "execution_count": 12,
      "metadata": {
        "id": "tMFqSr-G2pzW"
      },
      "outputs": [],
      "source": [
        "X_train,X_test,y_train,y_test=train_test_split(X,y,test_size=0.2,random_state=42)"
      ]
    },
    {
      "cell_type": "markdown",
      "metadata": {
        "id": "XnZ2kUBH3ceA"
      },
      "source": [
        "##Create an Evaluate Function to give all metrics after model training"
      ]
    },
    {
      "cell_type": "code",
      "execution_count": 13,
      "metadata": {
        "id": "E6D1YwH33GxG"
      },
      "outputs": [],
      "source": [
        "def evaluate_model(true,predict):\n",
        "  mae=mean_absolute_error(true,predict)\n",
        "  mse=mean_squared_error(true,predict)\n",
        "  rmse=np.sqrt(mean_squared_error(true,predict))\n",
        "  r2_square=r2_score(true,predict)\n",
        "  return mae,rmse,r2_square"
      ]
    },
    {
      "cell_type": "code",
      "execution_count": 14,
      "metadata": {
        "colab": {
          "base_uri": "https://localhost:8080/"
        },
        "id": "ZXvXVcGf31wa",
        "outputId": "4e0de24f-7d94-4043-b691-a139b4c65881"
      },
      "outputs": [
        {
          "name": "stdout",
          "output_type": "stream",
          "text": [
            "LinearRegression\n",
            "Model performance for Training set\n",
            "- Root Mean Squared Error: 5.3402\n",
            "- Mean Absolute Error: 4.2723\n",
            "- R2 Score: 0.8735\n",
            "----------------------------------\n",
            "Model performance for Test set\n",
            "- Root Mean Squared Error: 5.4214\n",
            "- Mean Absolute Error: 4.2253\n",
            "- R2 Score: 0.8792\n",
            "===================================\n",
            "\n",
            "\n",
            "Lasso\n",
            "Model performance for Training set\n",
            "- Root Mean Squared Error: 6.5938\n",
            "- Mean Absolute Error: 5.2063\n",
            "- R2 Score: 0.8071\n",
            "----------------------------------\n",
            "Model performance for Test set\n",
            "- Root Mean Squared Error: 6.5197\n",
            "- Mean Absolute Error: 5.1579\n",
            "- R2 Score: 0.8253\n",
            "===================================\n",
            "\n",
            "\n",
            "Ridge\n",
            "Model performance for Training set\n",
            "- Root Mean Squared Error: 5.3233\n",
            "- Mean Absolute Error: 4.2650\n",
            "- R2 Score: 0.8743\n",
            "----------------------------------\n",
            "Model performance for Test set\n",
            "- Root Mean Squared Error: 5.3904\n",
            "- Mean Absolute Error: 4.2111\n",
            "- R2 Score: 0.8806\n",
            "===================================\n",
            "\n",
            "\n",
            "KNeighboursRegressor\n",
            "Model performance for Training set\n",
            "- Root Mean Squared Error: 5.7091\n",
            "- Mean Absolute Error: 4.5175\n",
            "- R2 Score: 0.8554\n",
            "----------------------------------\n",
            "Model performance for Test set\n",
            "- Root Mean Squared Error: 7.2583\n",
            "- Mean Absolute Error: 5.6370\n",
            "- R2 Score: 0.7835\n",
            "===================================\n",
            "\n",
            "\n",
            "DecisionTreeRegressor\n",
            "Model performance for Training set\n",
            "- Root Mean Squared Error: 0.2795\n",
            "- Mean Absolute Error: 0.0187\n",
            "- R2 Score: 0.9997\n",
            "----------------------------------\n",
            "Model performance for Test set\n",
            "- Root Mean Squared Error: 8.0009\n",
            "- Mean Absolute Error: 6.2950\n",
            "- R2 Score: 0.7369\n",
            "===================================\n",
            "\n",
            "\n",
            "RandomForestRegressor\n",
            "Model performance for Training set\n",
            "- Root Mean Squared Error: 2.2896\n",
            "- Mean Absolute Error: 1.8222\n",
            "- R2 Score: 0.9767\n",
            "----------------------------------\n",
            "Model performance for Test set\n",
            "- Root Mean Squared Error: 6.0621\n",
            "- Mean Absolute Error: 4.7022\n",
            "- R2 Score: 0.8490\n",
            "===================================\n",
            "\n",
            "\n",
            "XGBRegressor\n",
            "Model performance for Training set\n",
            "- Root Mean Squared Error: 1.0073\n",
            "- Mean Absolute Error: 0.6875\n",
            "- R2 Score: 0.9955\n",
            "----------------------------------\n",
            "Model performance for Test set\n",
            "- Root Mean Squared Error: 6.4733\n",
            "- Mean Absolute Error: 5.0577\n",
            "- R2 Score: 0.8278\n",
            "===================================\n",
            "\n",
            "\n",
            "CatBoostRegressor\n",
            "Model performance for Training set\n",
            "- Root Mean Squared Error: 3.0427\n",
            "- Mean Absolute Error: 2.4054\n",
            "- R2 Score: 0.9589\n",
            "----------------------------------\n",
            "Model performance for Test set\n",
            "- Root Mean Squared Error: 6.0086\n",
            "- Mean Absolute Error: 4.6125\n",
            "- R2 Score: 0.8516\n",
            "===================================\n",
            "\n",
            "\n",
            "AdaBoostRegressor\n",
            "Model performance for Training set\n",
            "- Root Mean Squared Error: 5.8573\n",
            "- Mean Absolute Error: 4.8180\n",
            "- R2 Score: 0.8478\n",
            "----------------------------------\n",
            "Model performance for Test set\n",
            "- Root Mean Squared Error: 6.0718\n",
            "- Mean Absolute Error: 4.7391\n",
            "- R2 Score: 0.8485\n",
            "===================================\n",
            "\n",
            "\n"
          ]
        }
      ],
      "source": [
        "models={\n",
        "    'LinearRegression':LinearRegression(),\n",
        "    'Lasso':Lasso(),\n",
        "    'Ridge':Ridge(),\n",
        "    'KNeighboursRegressor':KNeighborsRegressor(),\n",
        "    'DecisionTreeRegressor':DecisionTreeRegressor(),\n",
        "    'RandomForestRegressor':RandomForestRegressor(),\n",
        "    'XGBRegressor':XGBRegressor(),\n",
        "    'CatBoostRegressor':CatBoostRegressor(verbose=False),\n",
        "    'AdaBoostRegressor':AdaBoostRegressor()\n",
        "}\n",
        "model_list=[]\n",
        "r2_list=[]\n",
        "for i in range(len(list(models))):\n",
        "  model=list(models.values())[i]\n",
        "  model.fit(X_train,y_train)\n",
        "\n",
        "  ##MAke Prediction\n",
        "  y_train_pred=model.predict(X_train)\n",
        "  y_test_pred=model.predict(X_test)\n",
        "\n",
        "\n",
        "  ##Evaluating the train and test data with the metricesss part\n",
        "  model_train_mae,model_train_rmse,model_train_r2=evaluate_model(y_train,y_train_pred)\n",
        "  model_test_mae,model_test_rmse,model_test_r2=evaluate_model(y_test,y_test_pred)\n",
        "\n",
        "\n",
        "  print(list(models.keys())[i])\n",
        "  model_list.append(list(models.keys())[i])\n",
        "  print('Model performance for Training set')\n",
        "  print(\"- Root Mean Squared Error: {:.4f}\".format(model_train_rmse))\n",
        "  print(\"- Mean Absolute Error: {:.4f}\".format(model_train_mae))\n",
        "  print(\"- R2 Score: {:.4f}\".format(model_train_r2))\n",
        "\n",
        "  print('----------------------------------')\n",
        "\n",
        "  print('Model performance for Test set')\n",
        "  print(\"- Root Mean Squared Error: {:.4f}\".format(model_test_rmse))\n",
        "  print(\"- Mean Absolute Error: {:.4f}\".format(model_test_mae))\n",
        "  print(\"- R2 Score: {:.4f}\".format(model_test_r2))\n",
        "  r2_list.append(model_test_r2)\n",
        "\n",
        "  print('='*35)\n",
        "  print('\\n')"
      ]
    },
    {
      "cell_type": "markdown",
      "metadata": {
        "id": "ug3suM7e8OmP"
      },
      "source": [
        "##Difference between the Predicted and the actual value"
      ]
    },
    {
      "cell_type": "code",
      "execution_count": 15,
      "metadata": {
        "colab": {
          "base_uri": "https://localhost:8080/",
          "height": 423
        },
        "id": "1Qo7y4m275po",
        "outputId": "81d7f0ff-26de-4ca2-eef3-8fcae07dc58f"
      },
      "outputs": [
        {
          "data": {
            "text/html": [
              "<div>\n",
              "<style scoped>\n",
              "    .dataframe tbody tr th:only-of-type {\n",
              "        vertical-align: middle;\n",
              "    }\n",
              "\n",
              "    .dataframe tbody tr th {\n",
              "        vertical-align: top;\n",
              "    }\n",
              "\n",
              "    .dataframe thead th {\n",
              "        text-align: right;\n",
              "    }\n",
              "</style>\n",
              "<table border=\"1\" class=\"dataframe\">\n",
              "  <thead>\n",
              "    <tr style=\"text-align: right;\">\n",
              "      <th></th>\n",
              "      <th>Actual Value</th>\n",
              "      <th>Predicted Value</th>\n",
              "      <th>Difference</th>\n",
              "    </tr>\n",
              "  </thead>\n",
              "  <tbody>\n",
              "    <tr>\n",
              "      <th>521</th>\n",
              "      <td>91</td>\n",
              "      <td>76.6250</td>\n",
              "      <td>14.3750</td>\n",
              "    </tr>\n",
              "    <tr>\n",
              "      <th>737</th>\n",
              "      <td>53</td>\n",
              "      <td>59.3750</td>\n",
              "      <td>-6.3750</td>\n",
              "    </tr>\n",
              "    <tr>\n",
              "      <th>740</th>\n",
              "      <td>80</td>\n",
              "      <td>76.5000</td>\n",
              "      <td>3.5000</td>\n",
              "    </tr>\n",
              "    <tr>\n",
              "      <th>660</th>\n",
              "      <td>74</td>\n",
              "      <td>76.2500</td>\n",
              "      <td>-2.2500</td>\n",
              "    </tr>\n",
              "    <tr>\n",
              "      <th>411</th>\n",
              "      <td>84</td>\n",
              "      <td>87.4375</td>\n",
              "      <td>-3.4375</td>\n",
              "    </tr>\n",
              "    <tr>\n",
              "      <th>...</th>\n",
              "      <td>...</td>\n",
              "      <td>...</td>\n",
              "      <td>...</td>\n",
              "    </tr>\n",
              "    <tr>\n",
              "      <th>408</th>\n",
              "      <td>52</td>\n",
              "      <td>43.8750</td>\n",
              "      <td>8.1250</td>\n",
              "    </tr>\n",
              "    <tr>\n",
              "      <th>332</th>\n",
              "      <td>62</td>\n",
              "      <td>62.6250</td>\n",
              "      <td>-0.6250</td>\n",
              "    </tr>\n",
              "    <tr>\n",
              "      <th>208</th>\n",
              "      <td>74</td>\n",
              "      <td>67.9375</td>\n",
              "      <td>6.0625</td>\n",
              "    </tr>\n",
              "    <tr>\n",
              "      <th>613</th>\n",
              "      <td>65</td>\n",
              "      <td>67.2500</td>\n",
              "      <td>-2.2500</td>\n",
              "    </tr>\n",
              "    <tr>\n",
              "      <th>78</th>\n",
              "      <td>61</td>\n",
              "      <td>62.6250</td>\n",
              "      <td>-1.6250</td>\n",
              "    </tr>\n",
              "  </tbody>\n",
              "</table>\n",
              "<p>200 rows × 3 columns</p>\n",
              "</div>"
            ],
            "text/plain": [
              "     Actual Value  Predicted Value  Difference\n",
              "521            91          76.6250     14.3750\n",
              "737            53          59.3750     -6.3750\n",
              "740            80          76.5000      3.5000\n",
              "660            74          76.2500     -2.2500\n",
              "411            84          87.4375     -3.4375\n",
              "..            ...              ...         ...\n",
              "408            52          43.8750      8.1250\n",
              "332            62          62.6250     -0.6250\n",
              "208            74          67.9375      6.0625\n",
              "613            65          67.2500     -2.2500\n",
              "78             61          62.6250     -1.6250\n",
              "\n",
              "[200 rows x 3 columns]"
            ]
          },
          "execution_count": 15,
          "metadata": {},
          "output_type": "execute_result"
        }
      ],
      "source": [
        "lin_model = LinearRegression(fit_intercept=True)\n",
        "lin_model = lin_model.fit(X_train, y_train)\n",
        "y_pred = lin_model.predict(X_test)\n",
        "pred_df=pd.DataFrame({'Actual Value':y_test,'Predicted Value':y_pred,'Difference':y_test-y_pred})\n",
        "pred_df"
      ]
    },
    {
      "cell_type": "code",
      "execution_count": null,
      "metadata": {
        "id": "KQLS0Scp8Uva"
      },
      "outputs": [],
      "source": []
    },
    {
      "cell_type": "code",
      "execution_count": 16,
      "metadata": {
        "colab": {
          "base_uri": "https://localhost:8080/",
          "height": 472
        },
        "id": "f1d5ee67",
        "outputId": "aeb45ff7-d393-4530-ab54-5f0e5b7f5c26"
      },
      "outputs": [
        {
          "data": {
            "image/png": "[encoded data removed]",
            "text/plain": [
              "<Figure size 640x480 with 1 Axes>"
            ]
          },
          "metadata": {},
          "output_type": "display_data"
        }
      ],
      "source": [
        "plt.scatter(y_test, y_pred)\n",
        "plt.xlabel(\"Actual Values\")\n",
        "plt.ylabel(\"Predicted Values\")\n",
        "plt.title(\"Actual vs. Predicted Values\")\n",
        "plt.show()"
      ]
    }
  ],
  "metadata": {
    "colab": {
      "provenance": []
    },
    "kernelspec": {
      "display_name": "Python 3",
      "name": "python3"
    },
    "language_info": {
      "codemirror_mode": {
        "name": "ipython",
        "version": 3
      },
      "file_extension": ".py",
      "mimetype": "text/x-python",
      "name": "python",
      "nbconvert_exporter": "python",
      "pygments_lexer": "ipython3",
      "version": "3.8.0"
    }
  },
  "nbformat": 4,
  "nbformat_minor": 0
}
