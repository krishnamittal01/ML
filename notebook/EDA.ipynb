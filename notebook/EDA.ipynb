{
  "cells": [
    {
      "cell_type": "markdown",
      "metadata": {
        "id": "F4hblnYOjsbg"
      },
      "source": [
        "##Problem Statement\n",
        "\n",
        "> The Project Understands the students performance(test scores) is affected by other variables such as Gender,Ethinicity ,Parent level of Education,Luch and Test Preparation Courses  \n",
        "\n"
      ]
    },
    {
      "cell_type": "markdown",
      "metadata": {
        "id": "9PV8Y_YhpBUy"
      },
      "source": [
        "##DATA COLLECTION\n",
        "\n",
        "The data consisrt of 8 columns and 1000 rows"
      ]
    },
    {
      "cell_type": "markdown",
      "metadata": {
        "id": "nF3jw1kSrSQ0"
      },
      "source": [
        "##DATA CHECK TO PERFORM\n",
        "\n",
        "1. Missing Value\n",
        "2. Dublicate Value\n",
        "3. Data Type\n",
        "4. Check the number of unique values of each column\n",
        "5. Check Statistics of Dataset\n",
        "6. Check Various Categories Present in diff Categorical Column"
      ]
    },
    {
      "cell_type": "markdown",
      "metadata": {
        "id": "OW3Kn-NTp5a6"
      },
      "source": [
        "##Importing the required library and Packages\n",
        "\n"
      ]
    },
    {
      "cell_type": "code",
      "execution_count": null,
      "metadata": {
        "id": "Q2dCED8lpMBK"
      },
      "outputs": [
        {
          "ename": "",
          "evalue": "",
          "output_type": "error",
          "traceback": [
            "\u001b[1;31mRunning cells with 'venv (Python 3.8.0)' requires the ipykernel package.\n",
            "\u001b[1;31mInstall 'ipykernel' into the Python environment. \n",
            "\u001b[1;31mCommand: 'conda install -p e:\\ML algorithm\\venv ipykernel --update-deps --force-reinstall'"
          ]
        }
      ],
      "source": [
        "import numpy as np\n",
        "import pandas as pd\n",
        "import seaborn as sns\n",
        "import matplotlib.pyplot as plt\n",
        "import warnings\n",
        "warnings.filterwarnings('ignore')"
      ]
    },
    {
      "cell_type": "markdown",
      "metadata": {
        "id": "3kbynISrqSC7"
      },
      "source": [
        "##Importing the csv data as panda dataframe"
      ]
    },
    {
      "cell_type": "code",
      "execution_count": null,
      "metadata": {
        "id": "2lSCDpItqRQv"
      },
      "outputs": [],
      "source": [
        "df=pd.read_csv(\"/content/StudentsPerformance.csv\")"
      ]
    },
    {
      "cell_type": "code",
      "execution_count": null,
      "metadata": {
        "colab": {
          "base_uri": "https://localhost:8080/",
          "height": 206
        },
        "id": "j_Gv-bBvqlGA",
        "outputId": "501ddbc5-7b20-49a8-e8e9-7f48aaf228b4"
      },
      "outputs": [],
      "source": [
        "df.head()"
      ]
    },
    {
      "cell_type": "code",
      "execution_count": null,
      "metadata": {
        "colab": {
          "base_uri": "https://localhost:8080/"
        },
        "id": "u0JqlU-Bqmas",
        "outputId": "9b1d008b-eb2f-47b5-e3bf-c4da36ee9c39"
      },
      "outputs": [],
      "source": [
        "##Dataset shape\n",
        "df.shape"
      ]
    },
    {
      "cell_type": "code",
      "execution_count": null,
      "metadata": {
        "colab": {
          "base_uri": "https://localhost:8080/",
          "height": 335
        },
        "id": "ZBE3cUptrNOA",
        "outputId": "799d808b-4f36-4a89-b14a-4af967dbd34a"
      },
      "outputs": [],
      "source": [
        "df.isnull().sum()"
      ]
    },
    {
      "cell_type": "code",
      "execution_count": null,
      "metadata": {
        "colab": {
          "base_uri": "https://localhost:8080/"
        },
        "id": "opiKzhhbr3KP",
        "outputId": "9069aa98-d97b-401c-a8e7-f9ec2ef178c9"
      },
      "outputs": [],
      "source": [
        "##CHeck the Dublicates Values\n",
        "\n",
        "\n",
        "df.duplicated().sum()"
      ]
    },
    {
      "cell_type": "code",
      "execution_count": null,
      "metadata": {
        "colab": {
          "base_uri": "https://localhost:8080/"
        },
        "id": "9_Sh0Tqyr_Wu",
        "outputId": "9d45c6c6-4194-46b1-b697-564b0beb8d1b"
      },
      "outputs": [],
      "source": [
        "##Check the DataTypes\n",
        "\n",
        "df.info()"
      ]
    },
    {
      "cell_type": "code",
      "execution_count": null,
      "metadata": {
        "colab": {
          "base_uri": "https://localhost:8080/",
          "height": 335
        },
        "id": "VH84-lvEsstB",
        "outputId": "251b901e-ef8c-4c8f-c6ed-19b25350ce3e"
      },
      "outputs": [],
      "source": [
        "##Checking the number of unique values in each columns\n",
        "\n",
        "\n",
        "df.nunique()"
      ]
    },
    {
      "cell_type": "code",
      "execution_count": null,
      "metadata": {
        "colab": {
          "base_uri": "https://localhost:8080/",
          "height": 300
        },
        "id": "4Avli8AAs_y8",
        "outputId": "dfdd1467-c03c-425d-f249-46d9d7a640df"
      },
      "outputs": [],
      "source": [
        "##Statistics of datasets\n",
        "\n",
        "df.describe()"
      ]
    },
    {
      "cell_type": "code",
      "execution_count": null,
      "metadata": {
        "colab": {
          "base_uri": "https://localhost:8080/"
        },
        "id": "29-zTkYaurHy",
        "outputId": "01b29984-dd94-442e-bad3-c4fd69725312"
      },
      "outputs": [],
      "source": [
        "#Exploring data\n",
        "\n",
        "print(f\"Catagories in Gender variable is  {df['gender'].unique()}\")\n",
        "print(f\"Catagories in Race/Ethnicity variable is  {df['race/ethnicity'].unique()}\")\n",
        "print(f\"Catagories in Lunch variable is  {df['lunch'].unique()}\")\n",
        "print(f\"Catagories in Test Preparation variable is  {df['test preparation course'].unique()}\")\n",
        "print(f\"Catagories in Parent Education variable is  {df['parental level of education'].unique()}\")\n",
        "\n"
      ]
    },
    {
      "cell_type": "code",
      "execution_count": null,
      "metadata": {
        "colab": {
          "base_uri": "https://localhost:8080/"
        },
        "id": "Y-viCB3hwJBC",
        "outputId": "e2e77306-e85f-434a-c891-491d6fbee2bb"
      },
      "outputs": [],
      "source": [
        "## Define the numberical and the categorical column\n",
        "\n",
        "num_col=[features for features in df.columns if df[features].dtype!=\"O\"]\n",
        "cat_col=[features for features in df.columns if df[features].dtype==\"O\"]\n",
        "\n",
        "print(f\"We have Numerical Features as {num_col}\")\n",
        "print(f\"We have Categorical Features as {cat_col}\")"
      ]
    },
    {
      "cell_type": "code",
      "execution_count": null,
      "metadata": {
        "colab": {
          "base_uri": "https://localhost:8080/",
          "height": 332
        },
        "id": "NYFud7c52m2f",
        "outputId": "757945c2-15a1-4402-cef4-35e42a5f626b"
      },
      "outputs": [],
      "source": [
        "##Adding the columns for Total Score and the Average\n",
        "\n",
        "df[\"Total_Score\"]=df[\"math score\"]+df[\"reading score\"]+df[\"writing score\"]\n",
        "df[\"Average_Score\"]=df[\"Total_Score\"]/3\n",
        "df.head()\n",
        "reading_full=df[df[\"reading score\"]==100]['Average_Score'].count()\n",
        "maths_full=df[df[\"math score\"]==100]['Average_Score'].count()\n",
        "writing_full=df[df[\"writing score\"]==100]['Average_Score'].count()\n",
        "\n",
        "print(f\"No. of students who scored full marks in reading is {reading_full}\")\n",
        "print(f\"No. of students who scored full marks in maths is {maths_full}\")\n",
        "print(f\"No. of students who scored full marks in writing is {writing_full}\")\n",
        "\n",
        "\n",
        "\n",
        "reading_less_20=df[df[\"reading score\"]<=20]['Average_Score'].count()\n",
        "maths_less_20=df[df[\"math score\"]<=20]['Average_Score'].count()\n",
        "writing_less_20=df[df[\"writing score\"]<=20]['Average_Score'].count()\n",
        "\n",
        "print(f\"No. of students who scored less than 20 in reading is {reading_less_20}\")\n",
        "print(f\"No. of students who scored less than 20 in maths is {maths_less_20}\")\n",
        "print(f\"No. of students who scored less than 20 in writing {writing_less_20}\")\n",
        "df.head()"
      ]
    },
    {
      "cell_type": "markdown",
      "metadata": {
        "id": "8DweFk3b-aMG"
      },
      "source": [
        "##Exploring the Data Vizualisaiton\n",
        "\n",
        "Vizualise average score distribution to make some conclusion\n",
        "\n",
        "1. Histogram\n",
        "2. Kernal  Distribution Function\n"
      ]
    },
    {
      "cell_type": "code",
      "execution_count": null,
      "metadata": {
        "colab": {
          "base_uri": "https://localhost:8080/",
          "height": 577
        },
        "id": "5bXFFziN3mv3",
        "outputId": "85b5e680-30c5-46cf-8dd8-4493d3f7f20b"
      },
      "outputs": [],
      "source": [
        "fig,axs=plt.subplots(1,2 ,figsize=(15,7))\n",
        "plt.subplot(121)\n",
        "sns.histplot(data=df,x=\"Average_Score\",ax=axs[0],bins=30,kde=True,color=\"g\")\n",
        "plt.subplot(122)\n",
        "sns.histplot(data=df,x=\"Average_Score\",kde=True,hue=\"gender\")\n",
        "plt.show()\n",
        "\n",
        "\n",
        "\n",
        "\n",
        "###Observation\n",
        "'''\n",
        "Female Students tends to perform well then the male students in the test.\n",
        "'''\n",
        "\n",
        "\n",
        "\n",
        "\n"
      ]
    },
    {
      "cell_type": "code",
      "execution_count": null,
      "metadata": {
        "colab": {
          "base_uri": "https://localhost:8080/",
          "height": 306
        },
        "id": "VchjQ3_SCR3B",
        "outputId": "9fa7c9f3-9d86-4f51-d18e-df73260c352b"
      },
      "outputs": [],
      "source": [
        "plt.subplots(1,3,figsize=(25,6))\n",
        "plt.subplot(131)\n",
        "sns.histplot(data=df,x=\"Average_Score\",hue=\"lunch\",kde=True)\n",
        "plt.subplot(132)\n",
        "sns.histplot(data=df[df['gender']==\"female\"],x=\"Average_Score\",hue=\"lunch\",kde=True)\n",
        "plt.subplot(133)\n",
        "sns.histplot(data=df[df['gender']==\"male\"],x=\"Average_Score\",hue=\"lunch\",kde=True)\n",
        "plt.show()\n"
      ]
    },
    {
      "cell_type": "code",
      "execution_count": null,
      "metadata": {
        "colab": {
          "base_uri": "https://localhost:8080/",
          "height": 36
        },
        "id": "FqOdZB52Hgtg",
        "outputId": "4eb0bc44-baaa-4a71-dcb0-ad5dccf78695"
      },
      "outputs": [],
      "source": [
        "##Observation\n",
        "'''\n",
        "Standard lunch helps to perform well in exam either male or female.\n",
        "\n",
        "'''\n"
      ]
    },
    {
      "cell_type": "code",
      "execution_count": null,
      "metadata": {
        "colab": {
          "base_uri": "https://localhost:8080/",
          "height": 306
        },
        "id": "heZaVcYANBlT",
        "outputId": "847aca90-3bf0-4455-d360-6f63140ba4e3"
      },
      "outputs": [],
      "source": [
        "plt.subplots(1,3,figsize=(25,6))\n",
        "plt.subplot(131)\n",
        "axs=sns.histplot(data=df,x='Average_Score',hue=\"parental level of education\",kde=True,color='b')\n",
        "plt.subplot(132)\n",
        "axs=sns.histplot(data=df[df[\"gender\"]==\"female\"],hue=\"parental level of education\",x='Average_Score',kde=True,color='g')\n",
        "plt.subplot(133)\n",
        "axs=sns.histplot(data=df[df[\"gender\"]==\"male\"],hue=\"parental level of education\",x='Average_Score',kde=True,color='r')\n",
        "plt.show()"
      ]
    },
    {
      "cell_type": "markdown",
      "metadata": {
        "id": "G6Xde3jYUBm_"
      },
      "source": [
        "##INSIGHTS\n",
        "\n",
        "- In general parent's education don't help student perform well in exam.\n",
        "- 3rd plot shows that parent's whose education is of associate's degree or master's degree their male child tend to perform well in exam\n",
        "- 2nd plot we can see there is no effect of parent's education on female students."
      ]
    },
    {
      "cell_type": "code",
      "execution_count": null,
      "metadata": {
        "colab": {
          "base_uri": "https://localhost:8080/",
          "height": 307
        },
        "id": "DaCMYt4jT5-7",
        "outputId": "5a4950ef-9e5e-4c48-df69-1ae7b58313b5"
      },
      "outputs": [],
      "source": [
        "plt.subplots(1,3,figsize=(25,6))\n",
        "plt.subplot(131)\n",
        "ax1 = sns.histplot(data=df,x='Average_Score',hue=\"race/ethnicity\",kde=True,color='b')\n",
        "plt.subplot(132)\n",
        "ax2 = sns.histplot(data=df[df['gender']=='female'],x=\"Average_Score\",hue=\"race/ethnicity\",kde=True,color='g')\n",
        "plt.subplot(133)\n",
        "ax3 = sns.histplot(data=df[df['gender']=='male'],x=\"Average_Score\",hue=\"race/ethnicity\",kde=True,color='r')\n",
        "plt.show()"
      ]
    },
    {
      "cell_type": "markdown",
      "metadata": {
        "id": "YGdJXJXqV1rx"
      },
      "source": [
        "#####  Insights\n",
        "- Students of group A and group B tends to perform poorly in exam.\n",
        "- Students of group A and group B tends to perform poorly in exam irrespective of whether they are male or female"
      ]
    },
    {
      "cell_type": "markdown",
      "metadata": {
        "id": "FOIgy8_XWFJ5"
      },
      "source": [
        "##Max Score Of Students in all Three Subjects"
      ]
    },
    {
      "cell_type": "code",
      "execution_count": null,
      "metadata": {
        "colab": {
          "base_uri": "https://localhost:8080/",
          "height": 540
        },
        "id": "MpoAq5apVcmf",
        "outputId": "de697bd2-635f-49c0-d976-faf1fa3e1006"
      },
      "outputs": [],
      "source": [
        "plt.figure(figsize=(15,7))\n",
        "plt.subplot(131)\n",
        "plt.title(\"Maths Score\")\n",
        "sns.violinplot(y='math score',data=df,color='b',linewidth=3)\n",
        "plt.subplot(132)\n",
        "plt.title(\"Reading Score\")\n",
        "sns.violinplot(y='reading score',data=df,color='g',linewidth=3)\n",
        "plt.subplot(133)\n",
        "plt.title(\"Writing Score\")\n",
        "sns.violinplot(y='writing score',data=df,color='r',linewidth=3)\n",
        "plt.show()"
      ]
    },
    {
      "cell_type": "markdown",
      "metadata": {
        "id": "oDaqC7VgY7xd"
      },
      "source": [
        "##Multivariate Analysis Using the pieplot\n"
      ]
    },
    {
      "cell_type": "code",
      "execution_count": null,
      "metadata": {
        "colab": {
          "base_uri": "https://localhost:8080/",
          "height": 222
        },
        "id": "f50ONMl2XC1-",
        "outputId": "3678b28a-95aa-4e27-abba-a69fb6b7eb26"
      },
      "outputs": [],
      "source": [
        "plt.rcParams['figure.figsize']=(30,12)\n",
        "\n",
        "plt.subplot(151)\n",
        "size= df['gender'].value_counts()\n",
        "labels='Male','Female'\n",
        "color=['red','green']\n",
        "\n",
        "\n",
        "plt.pie(size,colors=color,labels=labels,autopct='%2f%%')\n",
        "plt.title(\"Gender\",fontsize=20)\n",
        "plt.axis('off')\n",
        "\n",
        "plt.subplot(152)\n",
        "size= df['race/ethnicity'].value_counts()\n",
        "labels=['Group A','Group B','Group C','Group D','Group E']\n",
        "\n",
        "plt.pie(size,labels=labels,autopct='%2f%%')\n",
        "plt.title(\"Race/Ethnicity\",fontsize=20)\n",
        "plt.axis('off')\n",
        "\n",
        "plt.subplot(153)\n",
        "size= df['lunch'].value_counts()\n",
        "labels=['Free/Reduced','Standard']\n",
        "\n",
        "plt.pie(size,labels=labels,autopct='%2f%%')\n",
        "plt.title(\"Lunch\",fontsize=20)\n",
        "plt.axis('off')\n",
        "\n",
        "\n",
        "plt.subplot(154)\n",
        "size= df['test preparation course'].value_counts()\n",
        "labels=['None','Completed']\n",
        "\n",
        "plt.pie(size,labels=labels,autopct='%2f%%')\n",
        "plt.title(\"Test Preparation Course\",fontsize=20)\n",
        "\n",
        "\n",
        "plt.subplot(155)\n",
        "size= df['parental level of education'].value_counts()\n",
        "labels=['Some High School','High School','Some College','Associates Degree','Bachelors Degree','Masters Degree']\n",
        "\n",
        "plt.pie(size,labels=labels,autopct='%2f%%')\n",
        "plt.title(\"Parental Education\",fontsize=20)\n",
        "plt.axis('off')\n",
        "\n",
        "plt.show()"
      ]
    },
    {
      "cell_type": "markdown",
      "metadata": {
        "id": "QZ6Fg7pwc0j6"
      },
      "source": [
        "##Feature Wise Vizualisation\n",
        "\n",
        "##Gender Column\n",
        "\n",
        "1. How is Distribution of Gender?\n",
        "2. Is Gender has any impact on Student Performance ?\n",
        "\n",
        "\n",
        "##Univariate Analysis(How is Distribution of Gender?)"
      ]
    },
    {
      "cell_type": "code",
      "execution_count": null,
      "metadata": {
        "colab": {
          "base_uri": "https://localhost:8080/",
          "height": 1000
        },
        "id": "tvVaV8NBcMUc",
        "outputId": "08acad1f-d362-4f56-fd53-689a13c42989"
      },
      "outputs": [],
      "source": [
        "f,ax=plt.subplots(1,2,figsize=(20,30))\n",
        "sns.countplot(data=df,x=df['gender'],palette='bright',ax=ax[0])\n",
        "for container in ax[0].containers:\n",
        "    ax[0].bar_label(container,color='black',size=20)\n",
        "plt.pie(x=df['gender'].value_counts(),labels=df['gender'].value_counts().index,explode=[0,0.1],autopct='%1.1f%%',shadow=True,colors=['#ff4d4d','#ff8000'],textprops={'fontsize':20})\n",
        "ax[0].set_title('Gender',size=20)\n",
        "plt.show()"
      ]
    },
    {
      "cell_type": "markdown",
      "metadata": {
        "id": "C3XURMS0dwCS"
      },
      "source": [
        "##Bivariate Analysis(Is gender has any impact on Students Performance)"
      ]
    },
    {
      "cell_type": "code",
      "execution_count": null,
      "metadata": {
        "colab": {
          "base_uri": "https://localhost:8080/",
          "height": 699
        },
        "id": "FYoOus89dW-C",
        "outputId": "4d020778-0f38-4d0f-9d7b-b710ffef70b1"
      },
      "outputs": [],
      "source": [
        "gender_group = df.groupby('gender')[['Total_Score', 'math score', 'reading score', 'writing score', 'Average_Score']].mean()\n",
        "gender_group\n",
        "plt.figure(figsize=(10, 8))\n",
        "\n",
        "X = ['Total Average','Math Average']\n",
        "\n",
        "\n",
        "female_scores = [gender_group['Average_Score'][0], gender_group['math score'][0]]\n",
        "male_scores = [gender_group['Average_Score'][1], gender_group['math score'][1]]\n",
        "\n",
        "X_axis = np.arange(len(X))\n",
        "\n",
        "plt.bar(X_axis - 0.2, male_scores, 0.4, label = 'Male')\n",
        "plt.bar(X_axis + 0.2, female_scores, 0.4, label = 'Female')\n",
        "\n",
        "plt.xticks(X_axis, X)\n",
        "plt.ylabel(\"Marks\")\n",
        "plt.title(\"Total average v/s Math average marks of both the genders\", fontweight='bold')\n",
        "plt.legend()\n",
        "plt.show()"
      ]
    },
    {
      "cell_type": "markdown",
      "metadata": {
        "id": "xQIbsxRYgHg1"
      },
      "source": [
        "#### Insights\n",
        "- On an average females have a better overall score than men.\n",
        "- whereas males have scored higher in Maths."
      ]
    },
    {
      "cell_type": "markdown",
      "metadata": {
        "id": "K7vI5Y4CgPXE"
      },
      "source": [
        "#### 4.4.2 RACE/EHNICITY COLUMN\n",
        "- How is Group wise distribution ?\n",
        "- Is Race/Ehnicity has any impact on student's performance ?"
      ]
    },
    {
      "cell_type": "code",
      "execution_count": null,
      "metadata": {
        "colab": {
          "base_uri": "https://localhost:8080/",
          "height": 583
        },
        "id": "RuxD1pxEgP3a",
        "outputId": "b19386dd-f272-4c60-88e3-1dbce8f58e17"
      },
      "outputs": [],
      "source": [
        "f,ax=plt.subplots(figsize=(20,10))\n",
        "sns.countplot(x=df['race/ethnicity'],data=df,palette='bright',ax=ax,saturation=0.95)\n",
        "for conatainers in ax.containers:\n",
        "    ax.bar_label(conatainers)\n",
        "plt.show()"
      ]
    },
    {
      "cell_type": "markdown",
      "metadata": {
        "id": "IZJgy0_r86Rw"
      },
      "source": [
        "#### BIVARIATE ANALYSIS ( Is Race/Ehnicity has any impact on student's performance ? )"
      ]
    },
    {
      "cell_type": "code",
      "execution_count": null,
      "metadata": {
        "colab": {
          "base_uri": "https://localhost:8080/",
          "height": 507
        },
        "id": "Ih1Z2URl8654",
        "outputId": "c931f92c-675d-4fac-ca3c-a85aeda7f850"
      },
      "outputs": [],
      "source": [
        "Group_data=df.groupby('race/ethnicity')\n",
        "f,ax=plt.subplots(1,3,figsize=(20,8))\n",
        "sns.barplot(x=Group_data['math score'].mean().index,y=Group_data['math score'].mean().values,palette='mako',ax=ax[0])\n",
        "ax[0].set_title(\"Math Score\",color='#005ce6',size=20)\n",
        "\n",
        "\n",
        "for container in ax[0].containers:\n",
        "  ax[0].bar_label(container,color='black',size=15)\n",
        "\n",
        "sns.barplot(x=Group_data['reading score'].mean().index,y=Group_data['reading score'].mean().values,palette='flare',ax=ax[1])\n",
        "ax[1].set_title('Reading score',color='#005ce6',size=20)\n",
        "\n",
        "for container in ax[1].containers:\n",
        "  ax[1].bar_label(container,color='blue',size=15)\n",
        "\n",
        "sns.barplot(x=Group_data['writing score'].mean().index,y=Group_data['writing score'].mean().values,palette='rocket',ax=ax[2])\n",
        "ax[2].set_title('Writing_Score',color='#005ce6',size=20)\n",
        "\n",
        "for container in ax[2].containers:\n",
        "  ax[2].bar_label(container,color='red',size=15)\n",
        "\n",
        "plt.show()"
      ]
    },
    {
      "cell_type": "markdown",
      "metadata": {
        "id": "qCxfc9c5GJR9"
      },
      "source": [
        "#### Insights\n",
        "- Group E students have scored the highest marks.\n",
        "- Group A students have scored the lowest marks.\n",
        "- Students from a lower Socioeconomic status have a lower avg in all course subjects"
      ]
    },
    {
      "cell_type": "markdown",
      "metadata": {
        "id": "xgyI8SoSGK2d"
      },
      "source": [
        "#### 4.4.3 PARENTAL LEVEL OF EDUCATION COLUMN\n",
        "- What is educational background of student's parent ?\n",
        "- Is parental education has any impact on student's performance ?\n",
        "\n",
        "\n",
        "\n",
        "\n",
        "#### UNIVARIATE ANALYSIS ( What is educational background of student's parent ? )"
      ]
    },
    {
      "cell_type": "code",
      "execution_count": null,
      "metadata": {
        "colab": {
          "base_uri": "https://localhost:8080/",
          "height": 502
        },
        "id": "ahE4fO-wGJ4t",
        "outputId": "36ecb154-9b1e-4769-be75-93b0645fafcb"
      },
      "outputs": [],
      "source": [
        "plt.rcParams['figure.figsize']=(15,7)\n",
        "plt.style.use('fivethirtyeight')\n",
        "sns.countplot(df['parental level of education'],palette='bright')\n",
        "plt.title('Parental Education',color='black',size=25)\n",
        "plt.xlabel('parental level of education',color='red',size=20)\n",
        "plt.ylabel('count',color='red',size=20)\n",
        "plt.show()"
      ]
    },
    {
      "cell_type": "markdown",
      "metadata": {
        "id": "6rgC-E76KONs"
      },
      "source": [
        "#### BIVARIATE ANALYSIS ( Is parental education has any impact on student's performance ? )\n"
      ]
    },
    {
      "cell_type": "code",
      "execution_count": null,
      "metadata": {
        "colab": {
          "base_uri": "https://localhost:8080/",
          "height": 890
        },
        "id": "yZfnje8fKO3S",
        "outputId": "288356f3-3df5-4f27-e29a-4f18161a01ea"
      },
      "outputs": [],
      "source": [
        "df.groupby('parental level of education').mean(numeric_only=True).plot(kind='barh',figsize=(10,10))\n",
        "plt.legend(bbox_to_anchor=(1.05, 1), loc=2, borderaxespad=0.)\n",
        "plt.show()"
      ]
    },
    {
      "cell_type": "markdown",
      "metadata": {
        "id": "b1U3_C-YSCcN"
      },
      "source": [
        "#### Insights\n",
        "- The score of student whose parents possess master and bachelor level education are higher than others."
      ]
    },
    {
      "cell_type": "markdown",
      "metadata": {
        "id": "RskT4FUqSJ36"
      },
      "source": [
        "#### 4.4.4 LUNCH COLUMN\n",
        "- Which type of lunch is most common amoung students ?\n",
        "- What is the effect of lunch type on test results?\n"
      ]
    },
    {
      "cell_type": "markdown",
      "metadata": {
        "id": "WzMJdbOrSPAR"
      },
      "source": [
        "#### UNIVARIATE ANALYSIS ( Which type of lunch is most common amoung students ? )"
      ]
    },
    {
      "cell_type": "code",
      "execution_count": null,
      "metadata": {
        "colab": {
          "base_uri": "https://localhost:8080/",
          "height": 641
        },
        "id": "FwarRVwHSPc1",
        "outputId": "5c9e1d8b-2c73-4324-ad84-3a1f7ddcacdc"
      },
      "outputs": [],
      "source": [
        "plt.rcParams['figure.figsize']=(15,9)\n",
        "\n",
        "sns.countplot(df['lunch'],palette='PuBu')\n",
        "plt.title('Types of lunch',color='black',size=25)\n",
        "plt.xlabel('types of lunch',color='red',size=20)\n",
        "plt.ylabel('count',color='red',size=20)\n",
        "plt.show()"
      ]
    },
    {
      "cell_type": "markdown",
      "metadata": {
        "id": "Dv5qsMwuTFHa"
      },
      "source": [
        "#### Insights\n",
        "- Students being served Standard lunch was more than free lunch"
      ]
    },
    {
      "cell_type": "markdown",
      "metadata": {
        "id": "KrrKYPXHTIkp"
      },
      "source": [
        "#### BIVARIATE ANALYSIS (  Is lunch type intake has any impact on student's performance ? )\n"
      ]
    },
    {
      "cell_type": "code",
      "execution_count": null,
      "metadata": {
        "colab": {
          "base_uri": "https://localhost:8080/",
          "height": 472
        },
        "id": "GHqZz2lYTFyF",
        "outputId": "c63d5bb7-b2a3-4048-e74a-e07ff029ec08"
      },
      "outputs": [],
      "source": [
        "f,ax=plt.subplots(1,2,figsize=(20,8))\n",
        "sns.countplot(data=df,x=df['parental level of education'],hue='test preparation course',palette='bright',saturation=0.95,ax=ax[0])\n",
        "ax[0].set_title(\"Parental level of education VS Test preparation course\",color='black',size=25)\n",
        "\n",
        "for container in ax[0].containers:\n",
        "  ax[0].bar_label(container,color='black',size=20)\n",
        "\n",
        "sns.countplot(data=df,x=df['lunch'],hue='gender',palette='bright',saturation=0.95,ax=ax[1])\n",
        "#ax[1].set_title(\"Luch VS Gender\",color='balck',size=25)\n",
        "\n",
        "for container in ax[1].containers:\n",
        "  ax[1].bar_label(container,color='black',size=20)\n"
      ]
    },
    {
      "cell_type": "markdown",
      "metadata": {
        "id": "OZ-sTcR3YMYc"
      },
      "source": [
        "##Checking the outliers"
      ]
    },
    {
      "cell_type": "code",
      "execution_count": null,
      "metadata": {
        "colab": {
          "base_uri": "https://localhost:8080/",
          "height": 334
        },
        "id": "ezqw0zWTYCKe",
        "outputId": "bfa35dc5-0d70-4c06-f77c-285694f34076"
      },
      "outputs": [],
      "source": [
        "plt.subplots(1,4,figsize=(16,5))\n",
        "plt.subplot(141)\n",
        "sns.boxplot(df['math score'],color='skyblue')\n",
        "plt.subplot(142)\n",
        "sns.boxplot(df['reading score'],color='hotpink')\n",
        "plt.subplot(143)\n",
        "sns.boxplot(df['writing score'],color='yellow')\n",
        "plt.subplot(144)\n",
        "sns.boxplot(df['Average_Score'],color='lightgreen')\n",
        "plt.show()"
      ]
    },
    {
      "cell_type": "markdown",
      "metadata": {
        "id": "zId4ruFVYaHi"
      },
      "source": [
        "##Multivariate Analysis using Pair Plot"
      ]
    },
    {
      "cell_type": "code",
      "execution_count": null,
      "metadata": {
        "colab": {
          "base_uri": "https://localhost:8080/",
          "height": 1000
        },
        "id": "7eN-h1vCYQXR",
        "outputId": "b501e56b-6e1d-434a-f203-279c3460ed89"
      },
      "outputs": [],
      "source": [
        "sns.pairplot(df,hue = 'gender')\n",
        "plt.show()"
      ]
    },
    {
      "cell_type": "markdown",
      "metadata": {
        "id": "4IXahAGwYosE"
      },
      "source": [
        "##Conclusion\n",
        "\n",
        "\n",
        "- Student's Performance is related with lunch, race, parental level education\n",
        "- Females lead in pass percentage and also are top-scorers\n",
        "- Student's Performance is not much related with test preparation course\n",
        "- Finishing preparation course is benefitial."
      ]
    },
    {
      "cell_type": "code",
      "execution_count": null,
      "metadata": {
        "id": "zXqu_nVqYY0j"
      },
      "outputs": [],
      "source": []
    }
  ],
  "metadata": {
    "colab": {
      "provenance": []
    },
    "kernelspec": {
      "display_name": "Python 3",
      "name": "python3"
    },
    "language_info": {
      "name": "python",
      "version": "3.8.0"
    }
  },
  "nbformat": 4,
  "nbformat_minor": 0
}
