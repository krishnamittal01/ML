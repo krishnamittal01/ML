{
  "cells": [
    {
      "cell_type": "code",
      "execution_count": 1,
      "metadata": {
        "id": "zCCYJIZzk5nS"
      },
      "outputs": [],
      "source": [
        "import pandas as pd\n",
        "import numpy as np\n",
        "import matplotlib.pyplot as plt\n",
        "import seaborn as sns\n",
        "import warnings\n",
        "warnings.filterwarnings('ignore')"
      ]
    },
    {
      "cell_type": "code",
      "execution_count": null,
      "metadata": {
        "id": "ks6NwIswlPxH"
      },
      "outputs": [],
      "source": [
        "from sklearn.metrics import root_mean_squared_error,r2_score,mean_squared_error,mean_absolute_error\n",
        "from sklearn.neighbors import KNeighborsRegressor\n",
        "from sklearn.svm import SVR\n",
        "from sklearn.ensemble import RandomForestRegressor,AdaBoostRegressor\n",
        "from sklearn.tree import DecisionTreeRegressor\n",
        "from sklearn.linear_model import LinearRegression,Ridge,Lasso\n",
        "from sklearn.model_selection import RandomizedSearchCV\n",
        "from xgboost import XGBRegressor\n",
        "from catboost import CatBoostRegressor\n",
        "from sklearn.model_selection import train_test_split"
      ]
    },
    {
      "cell_type": "code",
      "execution_count": null,
      "metadata": {
        "colab": {
          "base_uri": "https://localhost:8080/"
        },
        "id": "6deab521",
        "outputId": "a623b028-202c-4ec0-aa38-b070b47b9138"
      },
      "outputs": [],
      "source": [
        "%pip install catboost"
      ]
    },
    {
      "cell_type": "markdown",
      "metadata": {
        "id": "7GguhShemw9a"
      },
      "source": [
        "##Importing the data as Pandas Frame Work"
      ]
    },
    {
      "cell_type": "code",
      "execution_count": null,
      "metadata": {
        "id": "3y0rJFVRmuQY"
      },
      "outputs": [],
      "source": [
        "df=pd.read_csv(\"/content/StudentsPerformance.csv\")"
      ]
    },
    {
      "cell_type": "code",
      "execution_count": null,
      "metadata": {
        "colab": {
          "base_uri": "https://localhost:8080/",
          "height": 206
        },
        "id": "f8SHqkAjnDCN",
        "outputId": "89c9f1d9-6c94-43f8-ff02-b7b3564ea1d6"
      },
      "outputs": [],
      "source": [
        "df.head()\n"
      ]
    },
    {
      "cell_type": "markdown",
      "metadata": {
        "id": "f6JoDDhbutp7"
      },
      "source": [
        "##Preparing X and Y Variables"
      ]
    },
    {
      "cell_type": "code",
      "execution_count": null,
      "metadata": {
        "id": "yHrfeplxuwmN"
      },
      "outputs": [],
      "source": [
        "##Here We'll try to [predict the maths score]\n",
        "\n",
        "X = df.drop(columns=['math score'], axis=1)\n",
        "y = df['math score']"
      ]
    },
    {
      "cell_type": "markdown",
      "metadata": {
        "id": "fWN2LHNDvY8r"
      },
      "source": [
        "##Create Column Transformer with 3 types of Transformers"
      ]
    },
    {
      "cell_type": "code",
      "execution_count": null,
      "metadata": {
        "id": "eR9A-iz3vK0Q"
      },
      "outputs": [],
      "source": [
        "num_features=X.select_dtypes(exclude='object').columns\n",
        "cat_featutres=X.select_dtypes(include='object').columns\n",
        "\n",
        "from sklearn.preprocessing import OneHotEncoder,StandardScaler\n",
        "from sklearn.compose import ColumnTransformer\n",
        "preprocessor=ColumnTransformer([\n",
        "    ('OneHotEncoder',OneHotEncoder(),cat_featutres),\n",
        "    ('StandardScaler',StandardScaler(),num_features)\n",
        "]\n",
        ")"
      ]
    },
    {
      "cell_type": "code",
      "execution_count": null,
      "metadata": {
        "id": "vmYNEGJK2k3k"
      },
      "outputs": [],
      "source": [
        "X=preprocessor.fit_transform(X)"
      ]
    },
    {
      "cell_type": "code",
      "execution_count": null,
      "metadata": {
        "id": "tMFqSr-G2pzW"
      },
      "outputs": [],
      "source": [
        "X_train,X_test,y_train,y_test=train_test_split(X,y,test_size=0.2,random_state=42)"
      ]
    },
    {
      "cell_type": "markdown",
      "metadata": {
        "id": "XnZ2kUBH3ceA"
      },
      "source": [
        "##Create an Evaluate Function to give all metrics after model training"
      ]
    },
    {
      "cell_type": "code",
      "execution_count": null,
      "metadata": {
        "id": "E6D1YwH33GxG"
      },
      "outputs": [],
      "source": [
        "def evaluate_model(true,predict):\n",
        "  mae=mean_absolute_error(true,predict)\n",
        "  mse=mean_squared_error(true,predict)\n",
        "  rmse=np.sqrt(mean_squared_error(true,predict))\n",
        "  r2_square=r2_score(true,predict)\n",
        "  return mae,rmse,r2_square"
      ]
    },
    {
      "cell_type": "code",
      "execution_count": null,
      "metadata": {
        "colab": {
          "base_uri": "https://localhost:8080/"
        },
        "id": "ZXvXVcGf31wa",
        "outputId": "4e0de24f-7d94-4043-b691-a139b4c65881"
      },
      "outputs": [],
      "source": [
        "models={\n",
        "    'LinearRegression':LinearRegression(),\n",
        "    'Lasso':Lasso(),\n",
        "    'Ridge':Ridge(),\n",
        "    'KNeighboursRegressor':KNeighborsRegressor(),\n",
        "    'DecisionTreeRegressor':DecisionTreeRegressor(),\n",
        "    'RandomForestRegressor':RandomForestRegressor(),\n",
        "    'XGBRegressor':XGBRegressor(),\n",
        "    'CatBoostRegressor':CatBoostRegressor(verbose=False),\n",
        "    'AdaBoostRegressor':AdaBoostRegressor()\n",
        "}\n",
        "model_list=[]\n",
        "r2_list=[]\n",
        "for i in range(len(list(models))):\n",
        "  model=list(models.values())[i]\n",
        "  model.fit(X_train,y_train)\n",
        "\n",
        "  ##MAke Prediction\n",
        "  y_train_pred=model.predict(X_train)\n",
        "  y_test_pred=model.predict(X_test)\n",
        "\n",
        "\n",
        "  ##Evaluating the train and test data with the metricesss part\n",
        "  model_train_mae,model_train_rmse,model_train_r2=evaluate_model(y_train,y_train_pred)\n",
        "  model_test_mae,model_test_rmse,model_test_r2=evaluate_model(y_test,y_test_pred)\n",
        "\n",
        "\n",
        "  print(list(models.keys())[i])\n",
        "  model_list.append(list(models.keys())[i])\n",
        "  print('Model performance for Training set')\n",
        "  print(\"- Root Mean Squared Error: {:.4f}\".format(model_train_rmse))\n",
        "  print(\"- Mean Absolute Error: {:.4f}\".format(model_train_mae))\n",
        "  print(\"- R2 Score: {:.4f}\".format(model_train_r2))\n",
        "\n",
        "  print('----------------------------------')\n",
        "\n",
        "  print('Model performance for Test set')\n",
        "  print(\"- Root Mean Squared Error: {:.4f}\".format(model_test_rmse))\n",
        "  print(\"- Mean Absolute Error: {:.4f}\".format(model_test_mae))\n",
        "  print(\"- R2 Score: {:.4f}\".format(model_test_r2))\n",
        "  r2_list.append(model_test_r2)\n",
        "\n",
        "  print('='*35)\n",
        "  print('\\n')"
      ]
    },
    {
      "cell_type": "markdown",
      "metadata": {
        "id": "ug3suM7e8OmP"
      },
      "source": [
        "##Difference between the Predicted and the actual value"
      ]
    },
    {
      "cell_type": "code",
      "execution_count": null,
      "metadata": {
        "colab": {
          "base_uri": "https://localhost:8080/",
          "height": 423
        },
        "id": "1Qo7y4m275po",
        "outputId": "81d7f0ff-26de-4ca2-eef3-8fcae07dc58f"
      },
      "outputs": [],
      "source": [
        "lin_model = LinearRegression(fit_intercept=True)\n",
        "lin_model = lin_model.fit(X_train, y_train)\n",
        "y_pred = lin_model.predict(X_test)\n",
        "pred_df=pd.DataFrame({'Actual Value':y_test,'Predicted Value':y_pred,'Difference':y_test-y_pred})\n",
        "pred_df"
      ]
    },
    {
      "cell_type": "code",
      "execution_count": null,
      "metadata": {
        "id": "KQLS0Scp8Uva"
      },
      "outputs": [],
      "source": []
    },
    {
      "cell_type": "code",
      "execution_count": null,
      "metadata": {
        "colab": {
          "base_uri": "https://localhost:8080/",
          "height": 472
        },
        "id": "f1d5ee67",
        "outputId": "aeb45ff7-d393-4530-ab54-5f0e5b7f5c26"
      },
      "outputs": [],
      "source": [
        "plt.scatter(y_test, y_pred)\n",
        "plt.xlabel(\"Actual Values\")\n",
        "plt.ylabel(\"Predicted Values\")\n",
        "plt.title(\"Actual vs. Predicted Values\")\n",
        "plt.show()"
      ]
    }
  ],
  "metadata": {
    "colab": {
      "provenance": []
    },
    "kernelspec": {
      "display_name": "Python 3",
      "name": "python3"
    },
    "language_info": {
      "codemirror_mode": {
        "name": "ipython",
        "version": 3
      },
      "file_extension": ".py",
      "mimetype": "text/x-python",
      "name": "python",
      "nbconvert_exporter": "python",
      "pygments_lexer": "ipython3",
      "version": "3.8.0"
    }
  },
  "nbformat": 4,
  "nbformat_minor": 0
}
